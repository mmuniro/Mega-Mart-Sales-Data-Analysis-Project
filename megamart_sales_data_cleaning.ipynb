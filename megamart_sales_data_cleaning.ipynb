{
 "cells": [
  {
   "cell_type": "code",
   "execution_count": 3,
   "id": "d76f5346",
   "metadata": {},
   "outputs": [],
   "source": [
    "# Importing the necessary libraries\n",
    "import pandas as pd\n",
    "import numpy as np\n",
    "from datetime import datetime\n",
    "import warnings\n",
    "warnings.filterwarnings('ignore')"
   ]
  },
  {
   "cell_type": "code",
   "execution_count": 4,
   "id": "e833b47d",
   "metadata": {},
   "outputs": [],
   "source": [
    "# Set display options for better understanding of the data\n",
    "pd.set_option('display.max_columns', None)\n",
    "pd.set_option('display.width', None)"
   ]
  },
  {
   "cell_type": "code",
   "execution_count": 5,
   "id": "b19c41a3",
   "metadata": {},
   "outputs": [
    {
     "name": "stdout",
     "output_type": "stream",
     "text": [
      "Original dataset shape: (300, 15)\n",
      "\n",
      "First five rows:\n"
     ]
    },
    {
     "data": {
      "text/html": [
       "<div>\n",
       "<style scoped>\n",
       "    .dataframe tbody tr th:only-of-type {\n",
       "        vertical-align: middle;\n",
       "    }\n",
       "\n",
       "    .dataframe tbody tr th {\n",
       "        vertical-align: top;\n",
       "    }\n",
       "\n",
       "    .dataframe thead th {\n",
       "        text-align: right;\n",
       "    }\n",
       "</style>\n",
       "<table border=\"1\" class=\"dataframe\">\n",
       "  <thead>\n",
       "    <tr style=\"text-align: right;\">\n",
       "      <th></th>\n",
       "      <th>Order ID</th>\n",
       "      <th>Order Date</th>\n",
       "      <th>Customer ID</th>\n",
       "      <th>Customer Name</th>\n",
       "      <th>Region</th>\n",
       "      <th>Product Category</th>\n",
       "      <th>Product Name</th>\n",
       "      <th>Quantity Sold</th>\n",
       "      <th>Unit Price</th>\n",
       "      <th>Total Sales</th>\n",
       "      <th>Profit Margin (%)</th>\n",
       "      <th>Profit Amount</th>\n",
       "      <th>Payment Method</th>\n",
       "      <th>Order Status</th>\n",
       "      <th>Customer Segment</th>\n",
       "    </tr>\n",
       "  </thead>\n",
       "  <tbody>\n",
       "    <tr>\n",
       "      <th>0</th>\n",
       "      <td>ORD0001</td>\n",
       "      <td>2024-02-17</td>\n",
       "      <td>CUST372</td>\n",
       "      <td>Customer 46</td>\n",
       "      <td>East</td>\n",
       "      <td>Furniture</td>\n",
       "      <td>Table</td>\n",
       "      <td>1</td>\n",
       "      <td>402.93</td>\n",
       "      <td>402.93</td>\n",
       "      <td>17.48</td>\n",
       "      <td>70.43</td>\n",
       "      <td>PayPal</td>\n",
       "      <td>Canceled</td>\n",
       "      <td>Wholesale</td>\n",
       "    </tr>\n",
       "    <tr>\n",
       "      <th>1</th>\n",
       "      <td>ORD0002</td>\n",
       "      <td>2024-02-22</td>\n",
       "      <td>CUST962</td>\n",
       "      <td>Customer 94</td>\n",
       "      <td>North</td>\n",
       "      <td>Electronics</td>\n",
       "      <td>Laptop</td>\n",
       "      <td>5</td>\n",
       "      <td>399.10</td>\n",
       "      <td>1995.50</td>\n",
       "      <td>15.61</td>\n",
       "      <td>311.50</td>\n",
       "      <td>Credit Card</td>\n",
       "      <td>Pending</td>\n",
       "      <td>Corporate</td>\n",
       "    </tr>\n",
       "    <tr>\n",
       "      <th>2</th>\n",
       "      <td>ORD0003</td>\n",
       "      <td>2024-01-12</td>\n",
       "      <td>CUST233</td>\n",
       "      <td>Customer 20</td>\n",
       "      <td>East</td>\n",
       "      <td>Electronics</td>\n",
       "      <td>Smartphone</td>\n",
       "      <td>6</td>\n",
       "      <td>155.03</td>\n",
       "      <td>930.18</td>\n",
       "      <td>26.69</td>\n",
       "      <td>248.27</td>\n",
       "      <td>Bank Transfer</td>\n",
       "      <td>Pending</td>\n",
       "      <td>Retail</td>\n",
       "    </tr>\n",
       "    <tr>\n",
       "      <th>3</th>\n",
       "      <td>ORD0004</td>\n",
       "      <td>2024-02-25</td>\n",
       "      <td>CUST927</td>\n",
       "      <td>Customer 117</td>\n",
       "      <td>North</td>\n",
       "      <td>Groceries</td>\n",
       "      <td>Eggs</td>\n",
       "      <td>2</td>\n",
       "      <td>195.79</td>\n",
       "      <td>391.58</td>\n",
       "      <td>5.40</td>\n",
       "      <td>21.15</td>\n",
       "      <td>Bank Transfer</td>\n",
       "      <td>Completed</td>\n",
       "      <td>Wholesale</td>\n",
       "    </tr>\n",
       "    <tr>\n",
       "      <th>4</th>\n",
       "      <td>ORD0005</td>\n",
       "      <td>2024-01-24</td>\n",
       "      <td>CUST950</td>\n",
       "      <td>Customer 12</td>\n",
       "      <td>East</td>\n",
       "      <td>Groceries</td>\n",
       "      <td>Eggs</td>\n",
       "      <td>1</td>\n",
       "      <td>63.77</td>\n",
       "      <td>63.77</td>\n",
       "      <td>25.53</td>\n",
       "      <td>16.28</td>\n",
       "      <td>Credit Card</td>\n",
       "      <td>Canceled</td>\n",
       "      <td>Corporate</td>\n",
       "    </tr>\n",
       "  </tbody>\n",
       "</table>\n",
       "</div>"
      ],
      "text/plain": [
       "  Order ID Order Date Customer ID Customer Name Region Product Category  \\\n",
       "0  ORD0001 2024-02-17     CUST372   Customer 46   East        Furniture   \n",
       "1  ORD0002 2024-02-22     CUST962   Customer 94  North      Electronics   \n",
       "2  ORD0003 2024-01-12     CUST233   Customer 20   East      Electronics   \n",
       "3  ORD0004 2024-02-25     CUST927  Customer 117  North        Groceries   \n",
       "4  ORD0005 2024-01-24     CUST950   Customer 12   East        Groceries   \n",
       "\n",
       "  Product Name  Quantity Sold  Unit Price  Total Sales  Profit Margin (%)  \\\n",
       "0        Table              1      402.93       402.93              17.48   \n",
       "1       Laptop              5      399.10      1995.50              15.61   \n",
       "2   Smartphone              6      155.03       930.18              26.69   \n",
       "3         Eggs              2      195.79       391.58               5.40   \n",
       "4         Eggs              1       63.77        63.77              25.53   \n",
       "\n",
       "   Profit Amount Payment Method Order Status Customer Segment  \n",
       "0          70.43         PayPal     Canceled        Wholesale  \n",
       "1         311.50    Credit Card      Pending        Corporate  \n",
       "2         248.27  Bank Transfer      Pending           Retail  \n",
       "3          21.15  Bank Transfer    Completed        Wholesale  \n",
       "4          16.28    Credit Card     Canceled        Corporate  "
      ]
     },
     "execution_count": 5,
     "metadata": {},
     "output_type": "execute_result"
    }
   ],
   "source": [
    "# Load the Excel file\n",
    "df = pd.read_excel('Megamart_Sales_Performance_Dataset.xlsx')\n",
    "print(f\"Original dataset shape: {df.shape}\")\n",
    "print(\"\\nFirst five rows:\")\n",
    "df.head()"
   ]
  },
  {
   "cell_type": "code",
   "execution_count": 6,
   "id": "02d4b626",
   "metadata": {},
   "outputs": [
    {
     "name": "stdout",
     "output_type": "stream",
     "text": [
      "<class 'pandas.core.frame.DataFrame'>\n",
      "RangeIndex: 300 entries, 0 to 299\n",
      "Data columns (total 15 columns):\n",
      " #   Column             Non-Null Count  Dtype         \n",
      "---  ------             --------------  -----         \n",
      " 0   Order ID           300 non-null    object        \n",
      " 1   Order Date         300 non-null    datetime64[ns]\n",
      " 2   Customer ID        300 non-null    object        \n",
      " 3   Customer Name      300 non-null    object        \n",
      " 4   Region             300 non-null    object        \n",
      " 5   Product Category   300 non-null    object        \n",
      " 6   Product Name       300 non-null    object        \n",
      " 7   Quantity Sold      300 non-null    int64         \n",
      " 8   Unit Price         300 non-null    float64       \n",
      " 9   Total Sales        300 non-null    float64       \n",
      " 10  Profit Margin (%)  300 non-null    float64       \n",
      " 11  Profit Amount      300 non-null    float64       \n",
      " 12  Payment Method     300 non-null    object        \n",
      " 13  Order Status       300 non-null    object        \n",
      " 14  Customer Segment   300 non-null    object        \n",
      "dtypes: datetime64[ns](1), float64(4), int64(1), object(9)\n",
      "memory usage: 35.3+ KB\n",
      "Missing values:\n",
      "Order ID             0\n",
      "Order Date           0\n",
      "Customer ID          0\n",
      "Customer Name        0\n",
      "Region               0\n",
      "Product Category     0\n",
      "Product Name         0\n",
      "Quantity Sold        0\n",
      "Unit Price           0\n",
      "Total Sales          0\n",
      "Profit Margin (%)    0\n",
      "Profit Amount        0\n",
      "Payment Method       0\n",
      "Order Status         0\n",
      "Customer Segment     0\n",
      "dtype: int64\n"
     ]
    }
   ],
   "source": [
    "# Checking the data types and missing values\n",
    "df.info()\n",
    "\n",
    "print(\"Missing values:\")\n",
    "print(df.isnull().sum())"
   ]
  },
  {
   "cell_type": "code",
   "execution_count": 7,
   "id": "3c37c21d",
   "metadata": {},
   "outputs": [
    {
     "data": {
      "text/html": [
       "<div>\n",
       "<style scoped>\n",
       "    .dataframe tbody tr th:only-of-type {\n",
       "        vertical-align: middle;\n",
       "    }\n",
       "\n",
       "    .dataframe tbody tr th {\n",
       "        vertical-align: top;\n",
       "    }\n",
       "\n",
       "    .dataframe thead th {\n",
       "        text-align: right;\n",
       "    }\n",
       "</style>\n",
       "<table border=\"1\" class=\"dataframe\">\n",
       "  <thead>\n",
       "    <tr style=\"text-align: right;\">\n",
       "      <th></th>\n",
       "      <th>Order Date</th>\n",
       "      <th>Quantity Sold</th>\n",
       "      <th>Unit Price</th>\n",
       "      <th>Total Sales</th>\n",
       "      <th>Profit Margin (%)</th>\n",
       "      <th>Profit Amount</th>\n",
       "    </tr>\n",
       "  </thead>\n",
       "  <tbody>\n",
       "    <tr>\n",
       "      <th>count</th>\n",
       "      <td>300</td>\n",
       "      <td>300.000000</td>\n",
       "      <td>300.000000</td>\n",
       "      <td>300.000000</td>\n",
       "      <td>300.000000</td>\n",
       "      <td>300.000000</td>\n",
       "    </tr>\n",
       "    <tr>\n",
       "      <th>mean</th>\n",
       "      <td>2024-01-30 05:16:48</td>\n",
       "      <td>5.496667</td>\n",
       "      <td>247.402933</td>\n",
       "      <td>1306.030433</td>\n",
       "      <td>17.810633</td>\n",
       "      <td>227.232600</td>\n",
       "    </tr>\n",
       "    <tr>\n",
       "      <th>min</th>\n",
       "      <td>2024-01-01 00:00:00</td>\n",
       "      <td>1.000000</td>\n",
       "      <td>13.960000</td>\n",
       "      <td>27.820000</td>\n",
       "      <td>5.010000</td>\n",
       "      <td>2.040000</td>\n",
       "    </tr>\n",
       "    <tr>\n",
       "      <th>25%</th>\n",
       "      <td>2024-01-14 18:00:00</td>\n",
       "      <td>3.000000</td>\n",
       "      <td>123.267500</td>\n",
       "      <td>443.582500</td>\n",
       "      <td>11.790000</td>\n",
       "      <td>72.552500</td>\n",
       "    </tr>\n",
       "    <tr>\n",
       "      <th>50%</th>\n",
       "      <td>2024-01-30 00:00:00</td>\n",
       "      <td>5.000000</td>\n",
       "      <td>248.285000</td>\n",
       "      <td>979.735000</td>\n",
       "      <td>17.580000</td>\n",
       "      <td>156.585000</td>\n",
       "    </tr>\n",
       "    <tr>\n",
       "      <th>75%</th>\n",
       "      <td>2024-02-14 00:00:00</td>\n",
       "      <td>8.000000</td>\n",
       "      <td>374.217500</td>\n",
       "      <td>1822.850000</td>\n",
       "      <td>24.470000</td>\n",
       "      <td>311.757500</td>\n",
       "    </tr>\n",
       "    <tr>\n",
       "      <th>max</th>\n",
       "      <td>2024-02-29 00:00:00</td>\n",
       "      <td>10.000000</td>\n",
       "      <td>496.880000</td>\n",
       "      <td>4730.900000</td>\n",
       "      <td>29.940000</td>\n",
       "      <td>1142.220000</td>\n",
       "    </tr>\n",
       "    <tr>\n",
       "      <th>std</th>\n",
       "      <td>NaN</td>\n",
       "      <td>2.910595</td>\n",
       "      <td>143.037822</td>\n",
       "      <td>1087.831867</td>\n",
       "      <td>7.250698</td>\n",
       "      <td>218.120907</td>\n",
       "    </tr>\n",
       "  </tbody>\n",
       "</table>\n",
       "</div>"
      ],
      "text/plain": [
       "                Order Date  Quantity Sold  Unit Price  Total Sales  \\\n",
       "count                  300     300.000000  300.000000   300.000000   \n",
       "mean   2024-01-30 05:16:48       5.496667  247.402933  1306.030433   \n",
       "min    2024-01-01 00:00:00       1.000000   13.960000    27.820000   \n",
       "25%    2024-01-14 18:00:00       3.000000  123.267500   443.582500   \n",
       "50%    2024-01-30 00:00:00       5.000000  248.285000   979.735000   \n",
       "75%    2024-02-14 00:00:00       8.000000  374.217500  1822.850000   \n",
       "max    2024-02-29 00:00:00      10.000000  496.880000  4730.900000   \n",
       "std                    NaN       2.910595  143.037822  1087.831867   \n",
       "\n",
       "       Profit Margin (%)  Profit Amount  \n",
       "count         300.000000     300.000000  \n",
       "mean           17.810633     227.232600  \n",
       "min             5.010000       2.040000  \n",
       "25%            11.790000      72.552500  \n",
       "50%            17.580000     156.585000  \n",
       "75%            24.470000     311.757500  \n",
       "max            29.940000    1142.220000  \n",
       "std             7.250698     218.120907  "
      ]
     },
     "execution_count": 7,
     "metadata": {},
     "output_type": "execute_result"
    }
   ],
   "source": [
    "# Check the basic statistics of the data\n",
    "df.describe()"
   ]
  },
  {
   "cell_type": "code",
   "execution_count": 8,
   "id": "cc0be95c",
   "metadata": {},
   "outputs": [
    {
     "name": "stdout",
     "output_type": "stream",
     "text": [
      "Duplicate Analysis:\n",
      "Exact duplicates: 0\n"
     ]
    }
   ],
   "source": [
    "# Check for duplicates\n",
    "print(f\"Duplicate Analysis:\")\n",
    "exact_duplicates = df.duplicated().sum()\n",
    "print(f\"Exact duplicates: {exact_duplicates}\")"
   ]
  },
  {
   "cell_type": "code",
   "execution_count": 9,
   "id": "968bb01d",
   "metadata": {},
   "outputs": [
    {
     "name": "stdout",
     "output_type": "stream",
     "text": [
      "\n",
      "Unique Values in Categorical Columns:\n",
      "- Product Category: 4 unique values\n",
      "  Values: ['Furniture' 'Electronics' 'Groceries' 'Clothing']\n",
      "- Customer Segment: 3 unique values\n",
      "  Values: ['Wholesale' 'Corporate' 'Retail']\n",
      "- Order Status: 3 unique values\n",
      "  Values: ['Canceled' 'Pending' 'Completed']\n",
      "- Payment Method: 4 unique values\n",
      "  Values: ['PayPal' 'Credit Card' 'Bank Transfer' 'Cash']\n",
      "- Region: 4 unique values\n",
      "  Values: ['East' 'North' 'West' 'South']\n"
     ]
    }
   ],
   "source": [
    "# Check for unique values in categorical columns\n",
    "print(f\"\\nUnique Values in Categorical Columns:\")\n",
    "categorical_cols = ['Product Category', 'Customer Segment', 'Order Status', 'Payment Method', 'Region']   \n",
    "for col in categorical_cols:\n",
    "    if col in df.columns:\n",
    "        unique_count = df[col].nunique()\n",
    "        print(f\"- {col}: {unique_count} unique values\")\n",
    "        print(f\"  Values: {df[col].unique()}\")"
   ]
  },
  {
   "cell_type": "code",
   "execution_count": 13,
   "id": "96745f2a",
   "metadata": {},
   "outputs": [],
   "source": [
    "# Create a copy to avoid modifying original\n",
    "df_clean = df.copy()\n",
    "original_shape = df_clean.shape"
   ]
  },
  {
   "cell_type": "code",
   "execution_count": 14,
   "id": "237e3446",
   "metadata": {},
   "outputs": [
    {
     "name": "stdout",
     "output_type": "stream",
     "text": [
      "Removed 0 duplicate rows\n"
     ]
    }
   ],
   "source": [
    "# Remove duplicates\n",
    "before_duplicates = len(df_clean)\n",
    "df_clean = df_clean.drop_duplicates()\n",
    "after_duplicates = len(df_clean)\n",
    "duplicates_removed = before_duplicates - after_duplicates\n",
    "print(f\"Removed {duplicates_removed} duplicate rows\")"
   ]
  },
  {
   "cell_type": "code",
   "execution_count": 15,
   "id": "69924e2f",
   "metadata": {},
   "outputs": [
    {
     "name": "stdout",
     "output_type": "stream",
     "text": [
      "Cleaned Product Category\n",
      "Cleaned Product Name\n",
      "Cleaned Customer Segment\n",
      "Cleaned Order Status\n",
      "Cleaned Payment Method\n",
      "Cleaned Region\n"
     ]
    }
   ],
   "source": [
    "# Clean text columns (remove extra spaces)\n",
    "text_columns = ['Product Category', 'Product Name', 'Customer Segment', 'Order Status', 'Payment Method', 'Region']\n",
    "    \n",
    "for col in text_columns:\n",
    "    if col in df_clean.columns:\n",
    "        df_clean[col] = df_clean[col].astype(str).str.strip()\n",
    "        print(f\"Cleaned {col}\")"
   ]
  },
  {
   "cell_type": "code",
   "execution_count": 17,
   "id": "63c87542",
   "metadata": {},
   "outputs": [
    {
     "name": "stdout",
     "output_type": "stream",
     "text": [
      "Converted Order Date column to datetime\n",
      "Converted Quantity Sold column to numeric\n",
      "Converted Unit Price column to numeric\n",
      "Converted Total Sales column to numeric\n",
      "Converted Profit Margin (%) column to numeric\n",
      "Converted Profit Amount column to numeric\n"
     ]
    }
   ],
   "source": [
    "# Fix data type issues\n",
    "\n",
    "# Convert Order Date to datetime if it's not already\n",
    "if 'Order Date' in df_clean.columns:\n",
    "    df_clean['Order Date'] = pd.to_datetime(df_clean['Order Date'], errors='coerce')\n",
    "    print(\"Converted Order Date column to datetime\")\n",
    "\n",
    "# Convert numeric columns\n",
    "numeric_columns = ['Quantity Sold', 'Unit Price', 'Total Sales', 'Profit Margin (%)', 'Profit Amount']\n",
    "for col in numeric_columns:\n",
    "    if col in df_clean.columns:\n",
    "        df_clean[col] = pd.to_numeric(df_clean[col], errors='coerce')\n",
    "        print(f\"Converted {col} column to numeric\")\n",
    "\n",
    "# Add Month Column\n",
    "df_clean['Month'] = df_clean['Order Date'].dt.month_name()\n",
    "df_clean['Month'] = df_clean['Month'].str.slice(0, 3)\n",
    "\n",
    "# Add Year Column\n",
    "df_clean['Year'] = df_clean['Order Date'].dt.year\n",
    "\n",
    "# Add Day Column\n",
    "df_clean['Day'] = df_clean['Order Date'].dt.day\n"
   ]
  },
  {
   "cell_type": "code",
   "execution_count": 18,
   "id": "490aa07d",
   "metadata": {},
   "outputs": [
    {
     "name": "stdout",
     "output_type": "stream",
     "text": [
      "Recalculated Total Sales\n",
      "Recalculated Profit Amount\n"
     ]
    }
   ],
   "source": [
    "# Fix any calculation inconsistencies\n",
    "\n",
    "# Fix Total Sales = Quantity Sold * Unit Price\n",
    "df_clean['Total Sales'] = df_clean['Quantity Sold'] * df_clean['Unit Price']\n",
    "print(\"Recalculated Total Sales\")\n",
    "\n",
    "# Fix Profit Amount = Total Sales * (Profit Margin % / 100)\n",
    "df_clean['Profit Amount'] = df_clean['Total Sales'] * (df_clean['Profit Margin (%)'] / 100)\n",
    "print(\"Recalculated Profit Amount\")"
   ]
  },
  {
   "cell_type": "code",
   "execution_count": 19,
   "id": "a8182041",
   "metadata": {},
   "outputs": [
    {
     "name": "stdout",
     "output_type": "stream",
     "text": [
      "Invalid records found:\n",
      "- Quantity: 0\n",
      "- Unit Price: 0\n",
      "- Total Sales: 0\n",
      "- Profit Margin: 0\n",
      "- Missing dates: 0\n",
      "Removed 0 invalid records\n"
     ]
    }
   ],
   "source": [
    "# Remove invalid numerical records\n",
    "\n",
    "# Count invalid records before removal\n",
    "invalid_quantity = (df_clean['Quantity Sold'] <= 0).sum()\n",
    "invalid_price = (df_clean['Unit Price'] <= 0).sum()\n",
    "invalid_sales = (df_clean['Total Sales'] <= 0).sum()\n",
    "invalid_profit_margin = ((df_clean['Profit Margin (%)'] < 0) | (df_clean['Profit Margin (%)'] > 100)).sum()\n",
    "invalid_dates = df_clean['Order Date'].isna().sum()\n",
    "\n",
    "print(f\"Invalid records found:\")\n",
    "print(f\"- Quantity: {invalid_quantity}\")\n",
    "print(f\"- Unit Price: {invalid_price}\")\n",
    "print(f\"- Total Sales: {invalid_sales}\")\n",
    "print(f\"- Profit Margin: {invalid_profit_margin}\")\n",
    "print(f\"- Missing dates: {invalid_dates}\")\n",
    "\n",
    "# Remove invalid records\n",
    "before_invalid = len(df_clean)\n",
    "\n",
    "df_clean = df_clean[\n",
    "    (df_clean['Quantity Sold'] > 0) &\n",
    "    (df_clean['Unit Price'] > 0) &\n",
    "    (df_clean['Total Sales'] > 0) &\n",
    "    (df_clean['Profit Margin (%)'] >= 0) &\n",
    "    (df_clean['Profit Margin (%)'] <= 100) &\n",
    "    (df_clean['Order Date'].notna())\n",
    "]\n",
    "\n",
    "after_invalid = len(df_clean)\n",
    "invalid_removed = before_invalid - after_invalid\n",
    "print(f\"Removed {invalid_removed} invalid records\")"
   ]
  },
  {
   "cell_type": "code",
   "execution_count": 20,
   "id": "4ad60135",
   "metadata": {},
   "outputs": [
    {
     "name": "stdout",
     "output_type": "stream",
     "text": [
      "Rounded numeric values to 2 decimal places\n"
     ]
    }
   ],
   "source": [
    "# Round numeric columns for consistency\n",
    "df_clean['Total Sales'] = df_clean['Total Sales'].round(2)\n",
    "df_clean['Profit Amount'] = df_clean['Profit Amount'].round(2)\n",
    "df_clean['Profit Margin (%)'] = df_clean['Profit Margin (%)'].round(2)\n",
    "print(\"Rounded numeric values to 2 decimal places\")"
   ]
  },
  {
   "cell_type": "code",
   "execution_count": 21,
   "id": "40fdfb7d",
   "metadata": {},
   "outputs": [
    {
     "name": "stdout",
     "output_type": "stream",
     "text": [
      "Cleaning Summary:\n",
      "- Original records: 300\n",
      "- Final records: 300\n",
      "- Records removed: 0\n",
      "- Data retention: 100.0%\n"
     ]
    }
   ],
   "source": [
    "#Final statistics\n",
    "final_shape = df_clean.shape\n",
    "total_removed = original_shape[0] - final_shape[0]\n",
    "    \n",
    "print(f\"Cleaning Summary:\")\n",
    "print(f\"- Original records: {original_shape[0]}\")\n",
    "print(f\"- Final records: {final_shape[0]}\")\n",
    "print(f\"- Records removed: {total_removed}\")\n",
    "print(f\"- Data retention: {(final_shape[0]/original_shape[0]*100):.1f}%\")"
   ]
  },
  {
   "cell_type": "code",
   "execution_count": 22,
   "id": "0b2ef293",
   "metadata": {},
   "outputs": [
    {
     "name": "stdout",
     "output_type": "stream",
     "text": [
      "Exported to CSV: megamart_sales_cleaned_data.csv\n"
     ]
    }
   ],
   "source": [
    "# Save the cleaned data to a new CSV file\n",
    "csv_filename = 'megamart_sales_cleaned_data.csv'\n",
    "df_clean.to_csv(csv_filename, index=False)\n",
    "print(f\"Exported to CSV: {csv_filename}\")"
   ]
  },
  {
   "cell_type": "code",
   "execution_count": null,
   "id": "e4199395",
   "metadata": {},
   "outputs": [],
   "source": []
  }
 ],
 "metadata": {
  "kernelspec": {
   "display_name": "base",
   "language": "python",
   "name": "python3"
  },
  "language_info": {
   "codemirror_mode": {
    "name": "ipython",
    "version": 3
   },
   "file_extension": ".py",
   "mimetype": "text/x-python",
   "name": "python",
   "nbconvert_exporter": "python",
   "pygments_lexer": "ipython3",
   "version": "3.13.5"
  }
 },
 "nbformat": 4,
 "nbformat_minor": 5
}
